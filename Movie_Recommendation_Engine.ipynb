{
  "nbformat": 4,
  "nbformat_minor": 0,
  "metadata": {
    "colab": {
      "name": "Movie Recommendation Engine.ipynb",
      "provenance": []
    },
    "kernelspec": {
      "name": "python3",
      "display_name": "Python 3"
    }
  },
  "cells": [
    {
      "cell_type": "markdown",
      "metadata": {
        "id": "2Wx990IYPFTb",
        "colab_type": "text"
      },
      "source": [
        "## Installing Libraries"
      ]
    },
    {
      "cell_type": "code",
      "metadata": {
        "id": "yv2UmBg3PDnj",
        "colab_type": "code",
        "colab": {
          "base_uri": "https://localhost:8080/",
          "height": 252
        },
        "outputId": "08f2ae68-b94a-4f2b-aede-a713ffdd3ff3"
      },
      "source": [
        "print('>>Installing Libraries')\n",
        "\n",
        "!pip3 install pandas matplotlib numpy scikit-surprise\n",
        "\n",
        "print('>>Libraries Installed')"
      ],
      "execution_count": null,
      "outputs": [
        {
          "output_type": "stream",
          "text": [
            ">>Installing Libraries\n",
            "Requirement already satisfied: pandas in /usr/local/lib/python3.6/dist-packages (1.0.5)\n",
            "Requirement already satisfied: matplotlib in /usr/local/lib/python3.6/dist-packages (3.2.2)\n",
            "Requirement already satisfied: numpy in /usr/local/lib/python3.6/dist-packages (1.18.5)\n",
            "Requirement already satisfied: scikit-surprise in /usr/local/lib/python3.6/dist-packages (1.1.1)\n",
            "Requirement already satisfied: python-dateutil>=2.6.1 in /usr/local/lib/python3.6/dist-packages (from pandas) (2.8.1)\n",
            "Requirement already satisfied: pytz>=2017.2 in /usr/local/lib/python3.6/dist-packages (from pandas) (2018.9)\n",
            "Requirement already satisfied: cycler>=0.10 in /usr/local/lib/python3.6/dist-packages (from matplotlib) (0.10.0)\n",
            "Requirement already satisfied: pyparsing!=2.0.4,!=2.1.2,!=2.1.6,>=2.0.1 in /usr/local/lib/python3.6/dist-packages (from matplotlib) (2.4.7)\n",
            "Requirement already satisfied: kiwisolver>=1.0.1 in /usr/local/lib/python3.6/dist-packages (from matplotlib) (1.2.0)\n",
            "Requirement already satisfied: six>=1.10.0 in /usr/local/lib/python3.6/dist-packages (from scikit-surprise) (1.15.0)\n",
            "Requirement already satisfied: scipy>=1.0.0 in /usr/local/lib/python3.6/dist-packages (from scikit-surprise) (1.4.1)\n",
            "Requirement already satisfied: joblib>=0.11 in /usr/local/lib/python3.6/dist-packages (from scikit-surprise) (0.16.0)\n",
            ">>Libraries Installed\n"
          ],
          "name": "stdout"
        }
      ]
    },
    {
      "cell_type": "markdown",
      "metadata": {
        "id": "o9_aUsfcUagV",
        "colab_type": "text"
      },
      "source": [
        "## Importing Libraries"
      ]
    },
    {
      "cell_type": "code",
      "metadata": {
        "id": "T94QYwJOTqtc",
        "colab_type": "code",
        "colab": {
          "base_uri": "https://localhost:8080/",
          "height": 50
        },
        "outputId": "97dd62cf-46bb-4f1b-c2ec-710cc89f30da"
      },
      "source": [
        "print('>>Importing Libraries')\n",
        "\n",
        "import pandas as pd\n",
        "\n",
        "from surprise import Reader, Dataset, SVD\n",
        "\n",
        "from surprise.accuracy import rmse, mae\n",
        "from surprise.model_selection import cross_validate\n",
        "\n",
        "print('>>Libraries imported.')"
      ],
      "execution_count": null,
      "outputs": [
        {
          "output_type": "stream",
          "text": [
            ">>Importing Libraries\n",
            ">>Libraries imported.\n"
          ],
          "name": "stdout"
        }
      ]
    },
    {
      "cell_type": "markdown",
      "metadata": {
        "id": "6AVOSboEX4Ue",
        "colab_type": "text"
      },
      "source": [
        "## Importing Data"
      ]
    },
    {
      "cell_type": "markdown",
      "metadata": {
        "id": "NVQaDt1QW8lI",
        "colab_type": "text"
      },
      "source": [
        "### Importing the Data"
      ]
    },
    {
      "cell_type": "code",
      "metadata": {
        "id": "0cC5uGERWfgA",
        "colab_type": "code",
        "colab": {
          "base_uri": "https://localhost:8080/",
          "height": 195
        },
        "outputId": "10bc745f-77ff-4dc9-c8d3-5bab31fe3f7e"
      },
      "source": [
        "df = pd.read_csv('/content/sample_data/ratings.csv')\n",
        "df.head()"
      ],
      "execution_count": null,
      "outputs": [
        {
          "output_type": "execute_result",
          "data": {
            "text/html": [
              "<div>\n",
              "<style scoped>\n",
              "    .dataframe tbody tr th:only-of-type {\n",
              "        vertical-align: middle;\n",
              "    }\n",
              "\n",
              "    .dataframe tbody tr th {\n",
              "        vertical-align: top;\n",
              "    }\n",
              "\n",
              "    .dataframe thead th {\n",
              "        text-align: right;\n",
              "    }\n",
              "</style>\n",
              "<table border=\"1\" class=\"dataframe\">\n",
              "  <thead>\n",
              "    <tr style=\"text-align: right;\">\n",
              "      <th></th>\n",
              "      <th>userId</th>\n",
              "      <th>movieId</th>\n",
              "      <th>rating</th>\n",
              "      <th>timestamp</th>\n",
              "    </tr>\n",
              "  </thead>\n",
              "  <tbody>\n",
              "    <tr>\n",
              "      <th>0</th>\n",
              "      <td>1</td>\n",
              "      <td>1</td>\n",
              "      <td>4.0</td>\n",
              "      <td>964982703</td>\n",
              "    </tr>\n",
              "    <tr>\n",
              "      <th>1</th>\n",
              "      <td>1</td>\n",
              "      <td>3</td>\n",
              "      <td>4.0</td>\n",
              "      <td>964981247</td>\n",
              "    </tr>\n",
              "    <tr>\n",
              "      <th>2</th>\n",
              "      <td>1</td>\n",
              "      <td>6</td>\n",
              "      <td>4.0</td>\n",
              "      <td>964982224</td>\n",
              "    </tr>\n",
              "    <tr>\n",
              "      <th>3</th>\n",
              "      <td>1</td>\n",
              "      <td>47</td>\n",
              "      <td>5.0</td>\n",
              "      <td>964983815</td>\n",
              "    </tr>\n",
              "    <tr>\n",
              "      <th>4</th>\n",
              "      <td>1</td>\n",
              "      <td>50</td>\n",
              "      <td>5.0</td>\n",
              "      <td>964982931</td>\n",
              "    </tr>\n",
              "  </tbody>\n",
              "</table>\n",
              "</div>"
            ],
            "text/plain": [
              "   userId  movieId  rating  timestamp\n",
              "0       1        1     4.0  964982703\n",
              "1       1        3     4.0  964981247\n",
              "2       1        6     4.0  964982224\n",
              "3       1       47     5.0  964983815\n",
              "4       1       50     5.0  964982931"
            ]
          },
          "metadata": {
            "tags": []
          },
          "execution_count": 69
        }
      ]
    },
    {
      "cell_type": "markdown",
      "metadata": {
        "id": "2C7GCO5ueWi7",
        "colab_type": "text"
      },
      "source": [
        "### Dropping timestamp column"
      ]
    },
    {
      "cell_type": "code",
      "metadata": {
        "id": "bjuWK9VhagjN",
        "colab_type": "code",
        "colab": {
          "base_uri": "https://localhost:8080/",
          "height": 195
        },
        "outputId": "39c4dbf4-8a9f-492b-ebf1-1443bb540ed0"
      },
      "source": [
        "df.drop('timestamp', axis=1, inplace = True) \n",
        "df.head()"
      ],
      "execution_count": null,
      "outputs": [
        {
          "output_type": "execute_result",
          "data": {
            "text/html": [
              "<div>\n",
              "<style scoped>\n",
              "    .dataframe tbody tr th:only-of-type {\n",
              "        vertical-align: middle;\n",
              "    }\n",
              "\n",
              "    .dataframe tbody tr th {\n",
              "        vertical-align: top;\n",
              "    }\n",
              "\n",
              "    .dataframe thead th {\n",
              "        text-align: right;\n",
              "    }\n",
              "</style>\n",
              "<table border=\"1\" class=\"dataframe\">\n",
              "  <thead>\n",
              "    <tr style=\"text-align: right;\">\n",
              "      <th></th>\n",
              "      <th>userId</th>\n",
              "      <th>movieId</th>\n",
              "      <th>rating</th>\n",
              "    </tr>\n",
              "  </thead>\n",
              "  <tbody>\n",
              "    <tr>\n",
              "      <th>0</th>\n",
              "      <td>1</td>\n",
              "      <td>1</td>\n",
              "      <td>4.0</td>\n",
              "    </tr>\n",
              "    <tr>\n",
              "      <th>1</th>\n",
              "      <td>1</td>\n",
              "      <td>3</td>\n",
              "      <td>4.0</td>\n",
              "    </tr>\n",
              "    <tr>\n",
              "      <th>2</th>\n",
              "      <td>1</td>\n",
              "      <td>6</td>\n",
              "      <td>4.0</td>\n",
              "    </tr>\n",
              "    <tr>\n",
              "      <th>3</th>\n",
              "      <td>1</td>\n",
              "      <td>47</td>\n",
              "      <td>5.0</td>\n",
              "    </tr>\n",
              "    <tr>\n",
              "      <th>4</th>\n",
              "      <td>1</td>\n",
              "      <td>50</td>\n",
              "      <td>5.0</td>\n",
              "    </tr>\n",
              "  </tbody>\n",
              "</table>\n",
              "</div>"
            ],
            "text/plain": [
              "   userId  movieId  rating\n",
              "0       1        1     4.0\n",
              "1       1        3     4.0\n",
              "2       1        6     4.0\n",
              "3       1       47     5.0\n",
              "4       1       50     5.0"
            ]
          },
          "metadata": {
            "tags": []
          },
          "execution_count": 70
        }
      ]
    },
    {
      "cell_type": "markdown",
      "metadata": {
        "id": "FlOApb9hfK6p",
        "colab_type": "text"
      },
      "source": [
        "### Checking for Missing Data"
      ]
    },
    {
      "cell_type": "code",
      "metadata": {
        "id": "DX9_b5jIe6Uw",
        "colab_type": "code",
        "colab": {
          "base_uri": "https://localhost:8080/",
          "height": 84
        },
        "outputId": "71e6cc2b-1bbb-4f28-9682-60a6ea3d745c"
      },
      "source": [
        "df.isna().sum()"
      ],
      "execution_count": null,
      "outputs": [
        {
          "output_type": "execute_result",
          "data": {
            "text/plain": [
              "userId     0\n",
              "movieId    0\n",
              "rating     0\n",
              "dtype: int64"
            ]
          },
          "metadata": {
            "tags": []
          },
          "execution_count": 71
        }
      ]
    },
    {
      "cell_type": "markdown",
      "metadata": {
        "id": "PPwbzW3_f6Ep",
        "colab_type": "text"
      },
      "source": [
        "## EDA(Exploratory data analysis)"
      ]
    },
    {
      "cell_type": "markdown",
      "metadata": {
        "id": "p36YrHTFgB1a",
        "colab_type": "text"
      },
      "source": [
        "### Number of movies/users"
      ]
    },
    {
      "cell_type": "code",
      "metadata": {
        "id": "dg5Bl6e1fSOq",
        "colab_type": "code",
        "colab": {
          "base_uri": "https://localhost:8080/",
          "height": 50
        },
        "outputId": "e3db9202-e693-4710-b326-37745480bd08"
      },
      "source": [
        "n_movies = df[\"movieId\"].nunique()\n",
        "n_users = df[\"userId\"].nunique()\n",
        "print(f'Number of unique movies: {n_movies}')\n",
        "print(f'Number of unique users: {n_users}')"
      ],
      "execution_count": null,
      "outputs": [
        {
          "output_type": "stream",
          "text": [
            "Number of unique movies: 9724\n",
            "Number of unique users: 610\n"
          ],
          "name": "stdout"
        }
      ]
    },
    {
      "cell_type": "markdown",
      "metadata": {
        "id": "iJxT8NqOhhNj",
        "colab_type": "text"
      },
      "source": [
        "### Sparsity of our data"
      ]
    },
    {
      "cell_type": "markdown",
      "metadata": {
        "id": "SGNpM8Kuhs2l",
        "colab_type": "text"
      },
      "source": [
        "Sparsity(%) = No.of missing values/ (total values)x100"
      ]
    },
    {
      "cell_type": "code",
      "metadata": {
        "id": "yc8LxfLEgsQ0",
        "colab_type": "code",
        "colab": {
          "base_uri": "https://localhost:8080/",
          "height": 34
        },
        "outputId": "452b2064-6258-491e-99ea-a4c49a11ce73"
      },
      "source": [
        "available_ratings = df['rating'].count()\n",
        "total_ratings = n_movies*n_users\n",
        "missing_ratings = total_ratings - available_ratings\n",
        "sparsity = (missing_ratings/total_ratings)*100\n",
        "print(f'Sparsity: {sparsity}')"
      ],
      "execution_count": null,
      "outputs": [
        {
          "output_type": "stream",
          "text": [
            "Sparsity: 98.30003169443864\n"
          ],
          "name": "stdout"
        }
      ]
    },
    {
      "cell_type": "markdown",
      "metadata": {
        "id": "7QdUCqcFitQv",
        "colab_type": "text"
      },
      "source": [
        "### Ratings Distribution"
      ]
    },
    {
      "cell_type": "code",
      "metadata": {
        "id": "Smv_nuTXibVf",
        "colab_type": "code",
        "colab": {
          "base_uri": "https://localhost:8080/",
          "height": 288
        },
        "outputId": "607c38e0-19fe-4dc8-90a6-099528481f5f"
      },
      "source": [
        "df['rating'].value_counts().plot(kind = 'bar')"
      ],
      "execution_count": null,
      "outputs": [
        {
          "output_type": "execute_result",
          "data": {
            "text/plain": [
              "<matplotlib.axes._subplots.AxesSubplot at 0x7f6f67b46908>"
            ]
          },
          "metadata": {
            "tags": []
          },
          "execution_count": 74
        },
        {
          "output_type": "display_data",
          "data": {
            "image/png": "[encoded data removed]",
            "text/plain": [
              "<Figure size 432x288 with 1 Axes>"
            ]
          },
          "metadata": {
            "tags": [],
            "needs_background": "light"
          }
        }
      ]
    },
    {
      "cell_type": "markdown",
      "metadata": {
        "id": "yOypPAZRjI_n",
        "colab_type": "text"
      },
      "source": [
        "## Dimensionality Reduction"
      ]
    },
    {
      "cell_type": "markdown",
      "metadata": {
        "id": "DGGLL9h9jR0w",
        "colab_type": "text"
      },
      "source": [
        "### filter movies with less than 3 ratings"
      ]
    },
    {
      "cell_type": "code",
      "metadata": {
        "id": "xACVIgqoi8kJ",
        "colab_type": "code",
        "colab": {}
      },
      "source": [
        "filter_movies = df['movieId'].value_counts() > 3\n",
        "filter_movies = filter_movies[filter_movies].index.tolist()"
      ],
      "execution_count": null,
      "outputs": []
    },
    {
      "cell_type": "markdown",
      "metadata": {
        "id": "wQ3Y-FhFjaTC",
        "colab_type": "text"
      },
      "source": [
        "### filter users with less than 3 movies rated"
      ]
    },
    {
      "cell_type": "code",
      "metadata": {
        "id": "iAtvAzAZji2Z",
        "colab_type": "code",
        "colab": {}
      },
      "source": [
        "filter_users = df['userId'].value_counts() > 3\n",
        "filter_users = filter_users[filter_users].index.tolist()"
      ],
      "execution_count": null,
      "outputs": []
    },
    {
      "cell_type": "markdown",
      "metadata": {
        "id": "YnIy76smjlIt",
        "colab_type": "text"
      },
      "source": [
        "### Remove rarely rated movies and rarely rating users"
      ]
    },
    {
      "cell_type": "code",
      "metadata": {
        "id": "d45PGviWjztx",
        "colab_type": "code",
        "colab": {
          "base_uri": "https://localhost:8080/",
          "height": 50
        },
        "outputId": "bc586a70-0393-40e0-d404-0527aceb8641"
      },
      "source": [
        "print(f'Original Shape: {df.shape}')\n",
        "df = df[(df['movieId'].isin(filter_movies)) & (df['userId'].isin(filter_users))]\n",
        "print(f'New shape: {df.shape}')"
      ],
      "execution_count": null,
      "outputs": [
        {
          "output_type": "stream",
          "text": [
            "Original Shape: (100836, 3)\n",
            "New shape: (92394, 3)\n"
          ],
          "name": "stdout"
        }
      ]
    },
    {
      "cell_type": "markdown",
      "metadata": {
        "id": "bD4PAe14mljA",
        "colab_type": "text"
      },
      "source": [
        "## Create Training and Test Sets"
      ]
    },
    {
      "cell_type": "markdown",
      "metadata": {
        "id": "T9KOQ7DbmvVV",
        "colab_type": "text"
      },
      "source": [
        "### Columns used for training"
      ]
    },
    {
      "cell_type": "code",
      "metadata": {
        "id": "mkNBTNbFmVfD",
        "colab_type": "code",
        "colab": {}
      },
      "source": [
        "cols = ['userId', 'movieId', 'rating']"
      ],
      "execution_count": null,
      "outputs": []
    },
    {
      "cell_type": "markdown",
      "metadata": {
        "id": "ngaam2VMm2iI",
        "colab_type": "text"
      },
      "source": [
        "### Create surprise data set"
      ]
    },
    {
      "cell_type": "code",
      "metadata": {
        "id": "lsLnseEcm9z9",
        "colab_type": "code",
        "colab": {}
      },
      "source": [
        "reader = Reader(rating_scale = (0.5, 5))\n",
        "data = Dataset.load_from_df(df[cols], reader)"
      ],
      "execution_count": null,
      "outputs": []
    },
    {
      "cell_type": "markdown",
      "metadata": {
        "id": "oM1PnhIlm-wV",
        "colab_type": "text"
      },
      "source": [
        "### Create Train-set and Prediction-set"
      ]
    },
    {
      "cell_type": "code",
      "metadata": {
        "id": "Pt00XOLKnFGt",
        "colab_type": "code",
        "colab": {}
      },
      "source": [
        "trainset = data.build_full_trainset()\n",
        "antiset = trainset.build_anti_testset()"
      ],
      "execution_count": null,
      "outputs": []
    },
    {
      "cell_type": "markdown",
      "metadata": {
        "id": "nbcvp05lozE1",
        "colab_type": "text"
      },
      "source": [
        "# Creating and training the model"
      ]
    },
    {
      "cell_type": "markdown",
      "metadata": {
        "id": "tDif6_jKpBN-",
        "colab_type": "text"
      },
      "source": [
        "### Creating the model"
      ]
    },
    {
      "cell_type": "markdown",
      "metadata": {
        "id": "YI7pQd4NpEw7",
        "colab_type": "text"
      },
      "source": [
        "**SVD(Singular Value Decomposition)**\n",
        "\n",
        "Interaction matrix = A X B X C"
      ]
    },
    {
      "cell_type": "code",
      "metadata": {
        "id": "8kLX4lTzojah",
        "colab_type": "code",
        "colab": {}
      },
      "source": [
        "algo = SVD(n_epochs = 25, verbose = True)"
      ],
      "execution_count": null,
      "outputs": []
    },
    {
      "cell_type": "markdown",
      "metadata": {
        "id": "niIydDs7p0ri",
        "colab_type": "text"
      },
      "source": [
        "### Training the model"
      ]
    },
    {
      "cell_type": "markdown",
      "metadata": {
        "id": "na_F9S5AqA56",
        "colab_type": "text"
      },
      "source": [
        "**Mean Absolute Error(MAE):** MAE measures the average magnitude of errors in a set of predictions, without considering their direction.\n",
        "\n",
        "**Root Mean Squared Error(RMSE):** RMSE is the squareroot of average ofsquared differences between prediction and actual observation."
      ]
    },
    {
      "cell_type": "code",
      "metadata": {
        "id": "vdLxxMLapstK",
        "colab_type": "code",
        "colab": {
          "base_uri": "https://localhost:8080/",
          "height": 1000
        },
        "outputId": "e4ddfbf8-f7c1-40c6-a301-db0285d24adc"
      },
      "source": [
        "cross_validate(algo, data, measures = ['RMSE','MAE'], cv =5, verbose = True)\n",
        "print('>>Training Done')"
      ],
      "execution_count": null,
      "outputs": [
        {
          "output_type": "stream",
          "text": [
            "Processing epoch 0\n",
            "Processing epoch 1\n",
            "Processing epoch 2\n",
            "Processing epoch 3\n",
            "Processing epoch 4\n",
            "Processing epoch 5\n",
            "Processing epoch 6\n",
            "Processing epoch 7\n",
            "Processing epoch 8\n",
            "Processing epoch 9\n",
            "Processing epoch 10\n",
            "Processing epoch 11\n",
            "Processing epoch 12\n",
            "Processing epoch 13\n",
            "Processing epoch 14\n",
            "Processing epoch 15\n",
            "Processing epoch 16\n",
            "Processing epoch 17\n",
            "Processing epoch 18\n",
            "Processing epoch 19\n",
            "Processing epoch 20\n",
            "Processing epoch 21\n",
            "Processing epoch 22\n",
            "Processing epoch 23\n",
            "Processing epoch 24\n",
            "Processing epoch 0\n",
            "Processing epoch 1\n",
            "Processing epoch 2\n",
            "Processing epoch 3\n",
            "Processing epoch 4\n",
            "Processing epoch 5\n",
            "Processing epoch 6\n",
            "Processing epoch 7\n",
            "Processing epoch 8\n",
            "Processing epoch 9\n",
            "Processing epoch 10\n",
            "Processing epoch 11\n",
            "Processing epoch 12\n",
            "Processing epoch 13\n",
            "Processing epoch 14\n",
            "Processing epoch 15\n",
            "Processing epoch 16\n",
            "Processing epoch 17\n",
            "Processing epoch 18\n",
            "Processing epoch 19\n",
            "Processing epoch 20\n",
            "Processing epoch 21\n",
            "Processing epoch 22\n",
            "Processing epoch 23\n",
            "Processing epoch 24\n",
            "Processing epoch 0\n",
            "Processing epoch 1\n",
            "Processing epoch 2\n",
            "Processing epoch 3\n",
            "Processing epoch 4\n",
            "Processing epoch 5\n",
            "Processing epoch 6\n",
            "Processing epoch 7\n",
            "Processing epoch 8\n",
            "Processing epoch 9\n",
            "Processing epoch 10\n",
            "Processing epoch 11\n",
            "Processing epoch 12\n",
            "Processing epoch 13\n",
            "Processing epoch 14\n",
            "Processing epoch 15\n",
            "Processing epoch 16\n",
            "Processing epoch 17\n",
            "Processing epoch 18\n",
            "Processing epoch 19\n",
            "Processing epoch 20\n",
            "Processing epoch 21\n",
            "Processing epoch 22\n",
            "Processing epoch 23\n",
            "Processing epoch 24\n",
            "Processing epoch 0\n",
            "Processing epoch 1\n",
            "Processing epoch 2\n",
            "Processing epoch 3\n",
            "Processing epoch 4\n",
            "Processing epoch 5\n",
            "Processing epoch 6\n",
            "Processing epoch 7\n",
            "Processing epoch 8\n",
            "Processing epoch 9\n",
            "Processing epoch 10\n",
            "Processing epoch 11\n",
            "Processing epoch 12\n",
            "Processing epoch 13\n",
            "Processing epoch 14\n",
            "Processing epoch 15\n",
            "Processing epoch 16\n",
            "Processing epoch 17\n",
            "Processing epoch 18\n",
            "Processing epoch 19\n",
            "Processing epoch 20\n",
            "Processing epoch 21\n",
            "Processing epoch 22\n",
            "Processing epoch 23\n",
            "Processing epoch 24\n",
            "Processing epoch 0\n",
            "Processing epoch 1\n",
            "Processing epoch 2\n",
            "Processing epoch 3\n",
            "Processing epoch 4\n",
            "Processing epoch 5\n",
            "Processing epoch 6\n",
            "Processing epoch 7\n",
            "Processing epoch 8\n",
            "Processing epoch 9\n",
            "Processing epoch 10\n",
            "Processing epoch 11\n",
            "Processing epoch 12\n",
            "Processing epoch 13\n",
            "Processing epoch 14\n",
            "Processing epoch 15\n",
            "Processing epoch 16\n",
            "Processing epoch 17\n",
            "Processing epoch 18\n",
            "Processing epoch 19\n",
            "Processing epoch 20\n",
            "Processing epoch 21\n",
            "Processing epoch 22\n",
            "Processing epoch 23\n",
            "Processing epoch 24\n",
            "Evaluating RMSE, MAE of algorithm SVD on 5 split(s).\n",
            "\n",
            "                  Fold 1  Fold 2  Fold 3  Fold 4  Fold 5  Mean    Std     \n",
            "RMSE (testset)    0.8631  0.8587  0.8583  0.8594  0.8577  0.8594  0.0019  \n",
            "MAE (testset)     0.6635  0.6566  0.6580  0.6603  0.6578  0.6592  0.0024  \n",
            "Fit time          6.32    6.31    6.39    6.35    6.40    6.36    0.03    \n",
            "Test time         0.13    0.14    0.13    0.14    0.13    0.14    0.00    \n",
            ">>Training Done\n"
          ],
          "name": "stdout"
        }
      ]
    },
    {
      "cell_type": "markdown",
      "metadata": {
        "id": "KSq9tWJ0rnSE",
        "colab_type": "text"
      },
      "source": [
        "## Predictions"
      ]
    },
    {
      "cell_type": "markdown",
      "metadata": {
        "id": "ge4ZFPxLrr7b",
        "colab_type": "text"
      },
      "source": [
        "### Predict ratings for all pairs (user, items) that are NOT in the training set"
      ]
    },
    {
      "cell_type": "code",
      "metadata": {
        "id": "imttwXT0rZV9",
        "colab_type": "code",
        "colab": {}
      },
      "source": [
        "predictions = algo.test(antiset)"
      ],
      "execution_count": null,
      "outputs": []
    },
    {
      "cell_type": "code",
      "metadata": {
        "id": "OuznpvQ8sYB3",
        "colab_type": "code",
        "colab": {
          "base_uri": "https://localhost:8080/",
          "height": 34
        },
        "outputId": "9afbd1d7-ed67-467c-b1b2-6ae77c874ecb"
      },
      "source": [
        "predictions[0]"
      ],
      "execution_count": null,
      "outputs": [
        {
          "output_type": "execute_result",
          "data": {
            "text/plain": [
              "Prediction(uid=1, iid=318, r_ui=3.529119856267723, est=5, details={'was_impossible': False})"
            ]
          },
          "metadata": {
            "tags": []
          },
          "execution_count": 84
        }
      ]
    },
    {
      "cell_type": "markdown",
      "metadata": {
        "id": "NGs4qyacsuiX",
        "colab_type": "text"
      },
      "source": [
        "### Predicting top 3 movies based on predictions"
      ]
    },
    {
      "cell_type": "code",
      "metadata": {
        "id": "9KnaPFxasQpT",
        "colab_type": "code",
        "colab": {
          "base_uri": "https://localhost:8080/",
          "height": 1000
        },
        "outputId": "75196f2b-793e-4d9f-e20c-a11dd0dd28d3"
      },
      "source": [
        "from collections import defaultdict\n",
        "def get_top_n(predictions, n):\n",
        "  top_n = defaultdict(list)\n",
        "  for uid, iid, _, est, _ in predictions:\n",
        "    top_n[uid].append((iid, est))\n",
        "  \n",
        "  for uid, user_ratings in top_n.items():\n",
        "    user_ratings.sort(key = lambda x: x[1], reverse = True)\n",
        "    top_n[uid] = user_ratings[:n]\n",
        "  return top_n\n",
        "  pass\n",
        "top_n = get_top_n(predictions, n = 3)\n",
        "for uid, user_ratings in top_n.items():\n",
        "  print(uid, [iid for (iid, rating) in user_ratings])"
      ],
      "execution_count": null,
      "outputs": [
        {
          "output_type": "stream",
          "text": [
            "1 [318, 720, 898]\n",
            "2 [1197, 4973, 260]\n",
            "3 [1175, 5952, 58559]\n",
            "4 [58559, 923, 356]\n",
            "5 [4973, 541, 1228]\n",
            "6 [471, 246, 1945]\n",
            "7 [2959, 318, 778]\n",
            "8 [3147, 60069, 38061]\n",
            "9 [4973, 5690, 1291]\n",
            "10 [260, 1225, 1357]\n",
            "11 [1198, 720, 475]\n",
            "12 [260, 527, 923]\n",
            "13 [1249, 56782, 111]\n",
            "14 [475, 6016, 541]\n",
            "15 [112552, 4034, 912]\n",
            "16 [89904, 1237, 910]\n",
            "17 [1204, 951, 177593]\n",
            "18 [750, 922, 1945]\n",
            "19 [4226, 1172, 750]\n",
            "20 [55820, 68157, 2571]\n",
            "21 [306, 912, 3147]\n",
            "22 [527, 110, 594]\n",
            "23 [1201, 246, 720]\n",
            "24 [1196, 951, 2959]\n",
            "25 [110, 356, 1197]\n",
            "26 [318, 68157, 912]\n",
            "27 [293, 318, 296]\n",
            "28 [928, 916, 951]\n",
            "29 [5992, 2160, 1197]\n",
            "30 [356, 1208, 475]\n",
            "31 [2571, 4995, 2329]\n",
            "32 [3147, 3275, 2318]\n",
            "33 [5690, 1198, 1266]\n",
            "34 [260, 4993, 741]\n",
            "35 [527, 750, 1222]\n",
            "36 [475, 1276, 608]\n",
            "37 [1204, 260, 527]\n",
            "38 [908, 858, 1221]\n",
            "39 [1203, 541, 1222]\n",
            "40 [5992, 1028, 1213]\n",
            "41 [34405, 1095, 318]\n",
            "42 [3949, 63082, 1262]\n",
            "43 [223, 527, 593]\n",
            "44 [741, 356, 8874]\n",
            "45 [527, 318, 1199]\n",
            "46 [260, 720, 858]\n",
            "47 [6711, 930, 922]\n",
            "48 [318, 1148, 293]\n",
            "49 [858, 4226, 1204]\n",
            "50 [4993, 4973, 246]\n",
            "51 [296, 1206, 1208]\n",
            "52 [50, 527, 475]\n",
            "53 [1, 6, 47]\n",
            "54 [246, 527, 1221]\n",
            "55 [2571, 5992, 750]\n",
            "56 [1945, 5992, 1197]\n",
            "57 [318, 177593, 1230]\n",
            "58 [1197, 2959, 1225]\n",
            "59 [318, 1225, 2019]\n",
            "60 [1198, 1204, 1225]\n",
            "61 [2959, 4973, 750]\n",
            "62 [5992, 1136, 56367]\n",
            "63 [922, 899, 1246]\n",
            "64 [1299, 750, 1198]\n",
            "65 [89904, 260, 922]\n",
            "66 [2788, 858, 1221]\n",
            "67 [1225, 1203, 720]\n",
            "68 [72226, 3504, 1734]\n",
            "69 [2959, 904, 1237]\n",
            "70 [1197, 4226, 750]\n",
            "71 [356, 5995, 922]\n",
            "72 [1204, 1278, 904]\n",
            "73 [750, 115569, 1198]\n",
            "74 [1197, 177593, 58559]\n",
            "75 [1136, 7361, 1197]\n",
            "76 [5618, 1079, 924]\n",
            "77 [1197, 1208, 1299]\n",
            "78 [1204, 951, 1945]\n",
            "79 [904, 34405, 1225]\n",
            "80 [1197, 5992, 1299]\n",
            "81 [1089, 1228, 1178]\n",
            "82 [912, 318, 922]\n",
            "83 [1267, 64614, 1266]\n",
            "84 [6377, 1178, 1204]\n",
            "85 [858, 3424, 318]\n",
            "86 [1258, 246, 904]\n",
            "87 [4226, 1089, 260]\n",
            "88 [910, 1272, 2160]\n",
            "89 [1193, 57274, 50]\n",
            "90 [1089, 2502, 1197]\n",
            "91 [1204, 1732, 38061]\n",
            "92 [1221, 5992, 750]\n",
            "93 [608, 1196, 1197]\n",
            "94 [260, 1266, 1198]\n",
            "95 [318, 1193, 858]\n",
            "96 [2959, 1203, 3424]\n",
            "97 [1225, 2160, 58559]\n",
            "98 [2160, 1210, 527]\n",
            "99 [527, 750, 1204]\n",
            "100 [904, 750, 1222]\n",
            "101 [318, 1178, 356]\n",
            "102 [1197, 912, 4226]\n",
            "103 [908, 1272, 904]\n",
            "104 [4011, 1266, 2542]\n",
            "105 [951, 1104, 1197]\n",
            "106 [1080, 2959, 58559]\n",
            "107 [356, 2542, 910]\n",
            "108 [750, 1291, 1221]\n",
            "109 [4226, 2160, 1225]\n",
            "110 [1172, 1203, 3275]\n",
            "111 [928, 527, 858]\n",
            "112 [5992, 1233, 318]\n",
            "113 [1172, 899, 1197]\n",
            "114 [2019, 475, 3266]\n",
            "115 [527, 3949, 68157]\n",
            "116 [34405, 1172, 3347]\n",
            "117 [908, 1225, 5992]\n",
            "118 [2959, 48516, 1136]\n",
            "119 [858, 475, 750]\n",
            "120 [318, 4226, 527]\n",
            "121 [4993, 5995, 7361]\n",
            "122 [1198, 904, 1203]\n",
            "123 [3275, 1225, 1203]\n",
            "124 [922, 1204, 1303]\n",
            "125 [2160, 1235, 1204]\n",
            "126 [1278, 858, 1131]\n",
            "127 [1266, 318, 527]\n",
            "128 [318, 527, 5992]\n",
            "129 [3451, 1258, 858]\n",
            "130 [750, 3275, 1204]\n",
            "131 [5992, 1197, 1225]\n",
            "132 [1204, 1104, 1197]\n",
            "133 [750, 1204, 1266]\n",
            "134 [908, 904, 5992]\n",
            "135 [4973, 4642, 1242]\n",
            "136 [3683, 1080, 1193]\n",
            "137 [930, 933, 1673]\n",
            "138 [1196, 1197, 5690]\n",
            "139 [318, 2571, 2329]\n",
            "140 [116897, 1235, 265]\n",
            "141 [1228, 912, 79132]\n",
            "142 [912, 1213, 720]\n",
            "143 [318, 2947, 1235]\n",
            "144 [34405, 2160, 1104]\n",
            "145 [1136, 4973, 1197]\n",
            "146 [750, 5690, 1197]\n",
            "147 [858, 1204, 750]\n",
            "148 [318, 2959, 2160]\n",
            "149 [4878, 5952, 1204]\n",
            "150 [904, 750, 1197]\n",
            "151 [527, 2028, 1221]\n",
            "152 [1197, 1204, 912]\n",
            "153 [70286, 912, 1104]\n",
            "154 [318, 750, 1247]\n",
            "155 [1197, 318, 1208]\n",
            "156 [903, 5690, 928]\n",
            "157 [2571, 1278, 1198]\n",
            "158 [1204, 951, 5992]\n",
            "159 [750, 260, 1261]\n",
            "160 [7361, 4886, 1262]\n",
            "161 [2324, 1207, 2329]\n",
            "162 [1198, 3275, 858]\n",
            "163 [2959, 541, 899]\n",
            "164 [318, 6016, 2160]\n",
            "165 [910, 5690, 3275]\n",
            "166 [951, 541, 750]\n",
            "167 [910, 1262, 1217]\n",
            "168 [5995, 1266, 527]\n",
            "169 [1198, 2542, 1266]\n",
            "170 [3578, 8132, 1276]\n",
            "171 [110, 1206, 2028]\n",
            "172 [1193, 1136, 858]\n",
            "173 [1272, 1225, 318]\n",
            "174 [2571, 260, 48516]\n",
            "175 [750, 1201, 1203]\n",
            "176 [922, 260, 904]\n",
            "177 [1204, 34405, 1172]\n",
            "178 [3578, 1199, 1221]\n",
            "179 [2959, 1198, 922]\n",
            "180 [3451, 5992, 318]\n",
            "181 [48516, 246, 527]\n",
            "182 [246, 4967, 27846]\n",
            "183 [2959, 318, 1197]\n",
            "184 [1197, 2959, 1884]\n",
            "185 [356, 260, 4973]\n",
            "186 [904, 5690, 1267]\n",
            "187 [68157, 58559, 3671]\n",
            "188 [318, 2959, 910]\n",
            "189 [750, 1136, 1199]\n",
            "190 [1208, 1136, 29]\n",
            "191 [68157, 1387, 527]\n",
            "192 [904, 3578, 951]\n",
            "193 [79132, 1204, 1228]\n",
            "194 [296, 318, 50]\n",
            "195 [4973, 7361, 2160]\n",
            "196 [48516, 318, 1204]\n",
            "197 [1197, 1136, 6711]\n",
            "198 [2788, 8368, 1178]\n",
            "199 [1193, 68157, 3996]\n",
            "200 [1080, 922, 858]\n",
            "201 [318, 58559, 922]\n",
            "202 [1225, 1148, 527]\n",
            "203 [913, 1221, 904]\n",
            "204 [541, 1228, 912]\n",
            "205 [58559, 1210, 112552]\n",
            "206 [593, 1104, 5992]\n",
            "207 [527, 1204, 1210]\n",
            "208 [1225, 1197, 356]\n",
            "209 [1204, 527, 858]\n",
            "210 [527, 110, 318]\n",
            "211 [1225, 1197, 1148]\n",
            "212 [1197, 27611, 2788]\n",
            "213 [318, 2019, 750]\n",
            "214 [5992, 48516, 1199]\n",
            "215 [89904, 1387, 1234]\n",
            "216 [3275, 1276, 2542]\n",
            "217 [2542, 5690, 8665]\n",
            "218 [858, 1204, 5690]\n",
            "219 [720, 1732, 5992]\n",
            "220 [1148, 3030, 1225]\n",
            "221 [1228, 106782, 1884]\n",
            "222 [4226, 1945, 260]\n",
            "223 [1172, 910, 5690]\n",
            "224 [923, 3424, 475]\n",
            "225 [7361, 318, 260]\n",
            "226 [318, 5992, 527]\n",
            "227 [1209, 922, 3504]\n",
            "228 [1208, 177593, 1249]\n",
            "229 [908, 951, 4973]\n",
            "230 [27611, 247, 4973]\n",
            "231 [2959, 1204, 177593]\n",
            "232 [1204, 750, 1221]\n",
            "233 [2019, 922, 1262]\n",
            "234 [356, 912, 1262]\n",
            "235 [1221, 2959, 1262]\n",
            "236 [1136, 4226, 7153]\n",
            "237 [1198, 5690, 750]\n",
            "238 [1204, 4878, 904]\n",
            "239 [922, 2160, 5992]\n",
            "240 [3578, 475, 910]\n",
            "241 [750, 608, 908]\n",
            "242 [2959, 1136, 2502]\n",
            "243 [50, 593, 608]\n",
            "244 [527, 7153, 1262]\n",
            "245 [750, 5690, 5995]\n",
            "246 [5992, 318, 527]\n",
            "247 [475, 750, 1247]\n",
            "248 [318, 908, 904]\n",
            "249 [1197, 3451, 1945]\n",
            "250 [593, 1197, 912]\n",
            "251 [1196, 475, 750]\n",
            "252 [1193, 318, 1208]\n",
            "253 [58559, 260, 922]\n",
            "254 [1136, 1221, 1197]\n",
            "255 [3451, 5992, 2959]\n",
            "256 [750, 1204, 1148]\n",
            "257 [1221, 2542, 7361]\n",
            "258 [5618, 32, 296]\n",
            "259 [2959, 593, 57669]\n",
            "260 [1945, 1237, 112552]\n",
            "261 [2160, 593, 1237]\n",
            "262 [6016, 910, 3504]\n",
            "263 [3504, 904, 858]\n",
            "264 [1198, 3266, 318]\n",
            "265 [951, 3578, 527]\n",
            "266 [4226, 2019, 750]\n",
            "267 [1204, 1148, 3275]\n",
            "268 [1225, 3703, 4226]\n",
            "269 [1136, 1208, 1221]\n",
            "270 [34405, 1272, 4499]\n",
            "271 [4993, 4973, 318]\n",
            "272 [720, 527, 296]\n",
            "273 [4993, 2019, 750]\n",
            "274 [91529, 5992, 951]\n",
            "275 [4878, 1233, 7361]\n",
            "276 [50, 296, 527]\n",
            "277 [750, 1204, 5690]\n",
            "278 [1208, 858, 177593]\n",
            "279 [1228, 904, 5690]\n",
            "280 [908, 593, 8132]\n",
            "281 [318, 2959, 541]\n",
            "282 [110, 1225, 1272]\n",
            "283 [1225, 260, 912]\n",
            "284 [34405, 910, 922]\n",
            "285 [1204, 750, 1221]\n",
            "286 [1089, 541, 293]\n",
            "287 [858, 1221, 1204]\n",
            "288 [4973, 2858, 1089]\n",
            "289 [1197, 1266, 5618]\n",
            "290 [1199, 7361, 356]\n",
            "291 [1136, 1225, 1197]\n",
            "292 [527, 951, 1261]\n",
            "293 [1197, 177593, 1172]\n",
            "294 [527, 1287, 1136]\n",
            "295 [3683, 1197, 7361]\n",
            "296 [858, 6016, 904]\n",
            "297 [296, 260, 912]\n",
            "298 [1945, 1203, 2804]\n",
            "299 [1136, 1197, 2324]\n",
            "300 [608, 1262, 5992]\n",
            "301 [1221, 593, 1089]\n",
            "302 [2019, 910, 5992]\n",
            "303 [951, 1234, 2028]\n",
            "304 [951, 1272, 2542]\n",
            "305 [3424, 2160, 3683]\n",
            "306 [4973, 246, 1035]\n",
            "307 [92259, 4973, 1203]\n",
            "308 [4896, 1212, 5608]\n",
            "309 [1212, 750, 5690]\n",
            "310 [858, 2571, 260]\n",
            "311 [527, 3275, 4011]\n",
            "312 [318, 1225, 1197]\n",
            "313 [5618, 2160, 104879]\n",
            "314 [914, 1204, 67255]\n",
            "315 [3030, 904, 5992]\n",
            "316 [1198, 1172, 318]\n",
            "317 [541, 1204, 923]\n",
            "318 [1172, 5690, 908]\n",
            "319 [1228, 750, 246]\n",
            "320 [48516, 260, 89904]\n",
            "321 [1198, 475, 56782]\n",
            "322 [1197, 1219, 1278]\n",
            "323 [246, 4973, 48516]\n",
            "324 [5992, 720, 899]\n",
            "325 [608, 1221, 1136]\n",
            "326 [1276, 91529, 246]\n",
            "327 [1197, 2788, 246]\n",
            "328 [4642, 6016, 1212]\n",
            "329 [2160, 3578, 2542]\n",
            "330 [4973, 57669, 4642]\n",
            "331 [2858, 904, 1221]\n",
            "332 [1262, 951, 246]\n",
            "333 [4993, 1208, 2160]\n",
            "334 [527, 593, 5992]\n",
            "335 [750, 1198, 951]\n",
            "336 [1252, 1196, 1233]\n",
            "337 [356, 919, 923]\n",
            "338 [1266, 720, 1225]\n",
            "339 [44195, 67255, 4034]\n",
            "340 [858, 1204, 3451]\n",
            "341 [1204, 858, 912]\n",
            "342 [356, 1262, 858]\n",
            "343 [4973, 5992, 1266]\n",
            "344 [922, 750, 1197]\n",
            "345 [1225, 1193, 58559]\n",
            "346 [1357, 1201, 48516]\n",
            "347 [34405, 296, 475]\n",
            "348 [1617, 48516, 475]\n",
            "349 [318, 1196, 48516]\n",
            "350 [541, 2959, 1221]\n",
            "351 [1197, 1136, 1104]\n",
            "352 [750, 858, 1199]\n",
            "353 [912, 356, 1148]\n",
            "354 [1104, 898, 912]\n",
            "355 [318, 48516, 1196]\n",
            "356 [608, 112552, 750]\n",
            "357 [4973, 3451, 904]\n",
            "358 [260, 1196, 7153]\n",
            "359 [3730, 318, 7361]\n",
            "360 [318, 858, 1267]\n",
            "361 [58559, 1197, 910]\n",
            "362 [4973, 475, 541]\n",
            "363 [750, 177593, 608]\n",
            "364 [750, 5690, 58559]\n",
            "365 [6350, 5617, 89904]\n",
            "366 [858, 1204, 908]\n",
            "367 [1204, 750, 951]\n",
            "368 [1204, 318, 912]\n",
            "369 [5992, 112552, 1201]\n",
            "370 [5690, 922, 122926]\n",
            "371 [260, 296, 608]\n",
            "372 [2571, 1193, 951]\n",
            "373 [1225, 1197, 4973]\n",
            "374 [2160, 1178, 2571]\n",
            "375 [527, 912, 904]\n",
            "376 [3424, 2542, 3451]\n",
            "377 [2959, 1104, 296]\n",
            "378 [908, 1210, 1267]\n",
            "379 [953, 1035, 79132]\n",
            "380 [2858, 1235, 5992]\n",
            "381 [177593, 1247, 60069]\n",
            "382 [1203, 1208, 1270]\n",
            "383 [922, 750, 56782]\n",
            "384 [260, 7361, 4878]\n",
            "385 [27773, 922, 527]\n",
            "386 [858, 260, 4226]\n",
            "387 [1178, 5995, 7361]\n",
            "388 [4226, 7153, 3703]\n",
            "389 [356, 1197, 904]\n",
            "390 [177593, 1204, 3451]\n",
            "391 [3201, 1262, 1252]\n",
            "392 [1247, 2571, 1204]\n",
            "393 [2324, 953, 2700]\n",
            "394 [2959, 5690, 930]\n",
            "395 [904, 800, 1207]\n",
            "396 [296, 3949, 1299]\n",
            "397 [912, 1197, 318]\n",
            "398 [296, 1196, 750]\n",
            "399 [1704, 1225, 1136]\n",
            "400 [6711, 3451, 527]\n",
            "401 [527, 1104, 5992]\n",
            "402 [58559, 904, 318]\n",
            "403 [750, 2959, 5690]\n",
            "404 [951, 922, 2959]\n",
            "405 [5952, 5690, 2019]\n",
            "406 [922, 1237, 4011]\n",
            "407 [858, 1198, 541]\n",
            "408 [4973, 1197, 1204]\n",
            "409 [1617, 5618, 3030]\n",
            "410 [1233, 6807, 1204]\n",
            "411 [908, 858, 260]\n",
            "412 [318, 1272, 1035]\n",
            "413 [1222, 1199, 5952]\n",
            "414 [1203, 27156, 122912]\n",
            "415 [1199, 1206, 3683]\n",
            "416 [4993, 904, 1197]\n",
            "417 [260, 7361, 1199]\n",
            "418 [2324, 2858, 541]\n",
            "419 [6377, 1357, 27773]\n",
            "420 [1199, 177593, 3451]\n",
            "421 [50, 2329, 3451]\n",
            "422 [2160, 1945, 356]\n",
            "423 [1198, 1221, 1204]\n",
            "424 [60069, 1197, 953]\n",
            "425 [1104, 89904, 5992]\n",
            "426 [3147, 930, 1262]\n",
            "427 [318, 2160, 912]\n",
            "428 [247, 32, 923]\n",
            "429 [1208, 2959, 318]\n",
            "430 [720, 3578, 1208]\n",
            "431 [260, 356, 1210]\n",
            "432 [2019, 1228, 1199]\n",
            "433 [4973, 1204, 2160]\n",
            "434 [1221, 1203, 1278]\n",
            "435 [1198, 527, 1204]\n",
            "436 [541, 34405, 2959]\n",
            "437 [5690, 908, 905]\n",
            "438 [1198, 296, 51255]\n",
            "439 [750, 260, 1196]\n",
            "440 [1204, 750, 1221]\n",
            "441 [1210, 5952, 5992]\n",
            "442 [50, 720, 2019]\n",
            "443 [930, 866, 89904]\n",
            "444 [2959, 1104, 4973]\n",
            "445 [318, 858, 48780]\n",
            "446 [1104, 5992, 2959]\n",
            "447 [260, 58559, 91529]\n",
            "448 [318, 3200, 1945]\n",
            "449 [904, 858, 1208]\n",
            "450 [318, 858, 1204]\n",
            "451 [5992, 1199, 2959]\n",
            "452 [593, 919, 1213]\n",
            "453 [91529, 1080, 1028]\n",
            "454 [1204, 910, 1250]\n",
            "455 [858, 177593, 1225]\n",
            "456 [1204, 110, 48516]\n",
            "457 [318, 296, 4973]\n",
            "458 [527, 858, 318]\n",
            "459 [1208, 858, 50]\n",
            "460 [7361, 750, 1288]\n",
            "461 [2318, 2959, 750]\n",
            "462 [1199, 903, 5618]\n",
            "463 [1387, 928, 1204]\n",
            "464 [922, 1276, 951]\n",
            "465 [858, 1262, 1221]\n",
            "466 [750, 1225, 5690]\n",
            "467 [112852, 318, 1104]\n",
            "468 [2571, 1199, 5992]\n",
            "469 [2959, 4973, 1203]\n",
            "470 [922, 1222, 2571]\n",
            "471 [1261, 1208, 2329]\n",
            "472 [260, 1198, 1199]\n",
            "473 [904, 475, 296]\n",
            "474 [741, 71535, 122912]\n",
            "475 [593, 1197, 1208]\n",
            "476 [1228, 1276, 1199]\n",
            "477 [50, 1197, 1221]\n",
            "478 [296, 50, 4499]\n",
            "479 [1203, 1527, 3703]\n",
            "480 [122912, 1617, 750]\n",
            "481 [318, 953, 2542]\n",
            "482 [1387, 951, 527]\n",
            "483 [541, 106782, 750]\n",
            "484 [1080, 1136, 2019]\n",
            "485 [527, 858, 318]\n",
            "486 [2959, 1198, 2762]\n",
            "487 [1237, 1136, 6016]\n",
            "488 [1266, 2959, 5992]\n",
            "489 [858, 260, 1203]\n",
            "490 [2028, 1204, 858]\n",
            "491 [1219, 1278, 750]\n",
            "492 [54286, 2067, 3201]\n",
            "493 [527, 5690, 4499]\n",
            "494 [1197, 4973, 750]\n",
            "495 [2329, 58, 5418]\n",
            "496 [527, 1204, 750]\n",
            "497 [527, 364, 246]\n",
            "498 [1208, 58559, 922]\n",
            "499 [32, 296, 260]\n",
            "500 [1204, 527, 2160]\n",
            "501 [750, 904, 899]\n",
            "502 [1193, 908, 858]\n",
            "503 [1262, 1272, 1276]\n",
            "504 [1080, 1197, 1208]\n",
            "505 [1732, 1148, 910]\n",
            "506 [2571, 1198, 4011]\n",
            "507 [318, 1197, 527]\n",
            "508 [318, 6016, 913]\n",
            "509 [5992, 1204, 1249]\n",
            "510 [2019, 318, 1199]\n",
            "511 [750, 1104, 296]\n",
            "512 [4226, 1387, 1196]\n",
            "513 [2019, 1196, 1203]\n",
            "514 [527, 1204, 858]\n",
            "515 [296, 1136, 1197]\n",
            "516 [858, 1276, 750]\n",
            "517 [86504, 150, 1303]\n",
            "518 [260, 2571, 4973]\n",
            "519 [750, 1204, 527]\n",
            "520 [1237, 922, 246]\n",
            "521 [5992, 1204, 1225]\n",
            "522 [1206, 3451, 1104]\n",
            "523 [1198, 1208, 2542]\n",
            "524 [2571, 951, 475]\n",
            "525 [1204, 1884, 89904]\n",
            "526 [1204, 1945, 7361]\n",
            "527 [2571, 2959, 750]\n",
            "528 [318, 1208, 3275]\n",
            "529 [750, 1204, 1228]\n",
            "530 [260, 7361, 318]\n",
            "531 [2160, 356, 922]\n",
            "532 [4973, 1247, 1221]\n",
            "533 [1197, 750, 858]\n",
            "534 [1204, 1197, 1272]\n",
            "535 [111, 750, 38061]\n",
            "536 [1136, 318, 7153]\n",
            "537 [1228, 2959, 4973]\n",
            "538 [318, 922, 951]\n",
            "539 [3996, 3275, 750]\n",
            "540 [7361, 1104, 4973]\n",
            "541 [912, 2160, 1199]\n",
            "542 [1262, 1172, 1136]\n",
            "543 [1080, 1089, 1198]\n",
            "544 [1258, 2542, 3147]\n",
            "545 [2959, 1028, 541]\n",
            "546 [3578, 1266, 1201]\n",
            "547 [593, 89904, 858]\n",
            "548 [750, 177593, 2019]\n",
            "549 [2858, 541, 1214]\n",
            "550 [858, 750, 4226]\n",
            "551 [109487, 1228, 527]\n",
            "552 [1197, 1089, 1206]\n",
            "553 [318, 1198, 951]\n",
            "554 [904, 1079, 116797]\n",
            "555 [48516, 527, 79132]\n",
            "556 [318, 527, 1225]\n",
            "557 [1104, 1204, 7981]\n",
            "558 [2324, 750, 1247]\n",
            "559 [1247, 4973, 5952]\n",
            "560 [5992, 3451, 1266]\n",
            "561 [1945, 2160, 1148]\n",
            "562 [5992, 1304, 3552]\n",
            "563 [2571, 1945, 318]\n",
            "564 [750, 1197, 1193]\n",
            "565 [912, 858, 1197]\n",
            "566 [913, 912, 904]\n",
            "567 [1221, 1945, 945]\n",
            "568 [928, 318, 1237]\n",
            "569 [1228, 858, 318]\n",
            "570 [1249, 5995, 2160]\n",
            "571 [318, 922, 7361]\n",
            "572 [296, 2160, 7361]\n",
            "573 [527, 954, 1199]\n",
            "574 [1262, 356, 260]\n",
            "575 [5992, 750, 527]\n",
            "576 [904, 2571, 27611]\n",
            "577 [1945, 2160, 4848]\n",
            "578 [1080, 71899, 3266]\n",
            "579 [246, 909, 1258]\n",
            "580 [3451, 945, 7121]\n",
            "581 [296, 2360, 1258]\n",
            "582 [318, 720, 5500]\n",
            "583 [2571, 34405, 5992]\n",
            "584 [919, 1272, 800]\n",
            "585 [1104, 1197, 2788]\n",
            "586 [1197, 1208, 1617]\n",
            "587 [5995, 318, 750]\n",
            "588 [750, 858, 1221]\n",
            "589 [750, 858, 904]\n",
            "590 [1225, 2019, 4973]\n",
            "591 [527, 318, 4306]\n",
            "592 [2571, 1235, 910]\n",
            "593 [296, 4226, 904]\n",
            "594 [954, 2542, 1079]\n",
            "595 [2324, 904, 5995]\n",
            "596 [1945, 750, 1272]\n",
            "597 [527, 923, 1219]\n",
            "598 [5690, 912, 32587]\n",
            "599 [1262, 57669, 1304]\n",
            "600 [1080, 111, 1884]\n",
            "601 [750, 5995, 541]\n",
            "602 [177593, 247, 1136]\n",
            "603 [33166, 48516, 5995]\n",
            "604 [1387, 177593, 2959]\n",
            "605 [1214, 1276, 1208]\n",
            "606 [1104, 68157, 177593]\n",
            "607 [922, 898, 2959]\n",
            "608 [247, 720, 33493]\n",
            "609 [3451, 750, 2019]\n",
            "610 [720, 1203, 1225]\n"
          ],
          "name": "stdout"
        }
      ]
    },
    {
      "cell_type": "code",
      "metadata": {
        "id": "Ly3Vz9y4wdna",
        "colab_type": "code",
        "colab": {}
      },
      "source": [
        ""
      ],
      "execution_count": null,
      "outputs": []
    }
  ]
}